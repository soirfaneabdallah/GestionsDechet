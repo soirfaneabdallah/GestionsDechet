{
 "cells": [
  {
   "cell_type": "markdown",
   "id": "dedb1331-8cb1-4a92-8400-3778b9121533",
   "metadata": {},
   "source": [
    "<img src=\"udc1.png\" alt=\"UDC\"/>\n"
   ]
  },
  {
   "cell_type": "markdown",
   "id": "2de03131-6a07-41d0-87eb-aeeb13ed8582",
   "metadata": {},
   "source": [
    "# Notebook pour le traitement et préséléction d'images(déchets). "
   ]
  },
  {
   "cell_type": "code",
   "execution_count": 1,
   "id": "11ff6a64-8244-4967-8f29-472aa4b9bdfc",
   "metadata": {},
   "outputs": [],
   "source": [
    "#import outilsg"
   ]
  },
  {
   "cell_type": "code",
   "execution_count": 2,
   "id": "a5dcf367-6873-461e-b02e-71d2dad0ff0c",
   "metadata": {},
   "outputs": [],
   "source": [
    "#import matplotlib.pyplot as plt\n",
    "#from tensorflow.keras.preprocessing.image import ImageDataGenerator\n",
    "#import tensorflow as tf\n",
    "#import numpy as np"
   ]
  },
  {
   "cell_type": "code",
   "execution_count": 12,
   "id": "dfc117b3-eb05-4e06-abc0-f7c430c7e353",
   "metadata": {},
   "outputs": [],
   "source": [
    "#import load \n",
    "import outils"
   ]
  },
  {
   "cell_type": "code",
   "execution_count": null,
   "id": "52125ed9-7d1b-40fc-8869-a7f8cd47b016",
   "metadata": {},
   "outputs": [],
   "source": []
  },
  {
   "cell_type": "code",
   "execution_count": null,
   "id": "521a8059-7f59-414f-86e7-0d6deefc56a7",
   "metadata": {},
   "outputs": [],
   "source": [
    "#from tensorflow.keras import layers, models, regularizers\n",
    "#from tensorflow.keras import Model"
   ]
  },
  {
   "cell_type": "code",
   "execution_count": null,
   "id": "3b27585e-3341-4afe-a17d-eeb6262fc66a",
   "metadata": {},
   "outputs": [],
   "source": [
    "#X_train, y_train, X_test, y_test = load.load_datagans()"
   ]
  },
  {
   "cell_type": "code",
   "execution_count": null,
   "id": "e061f803-db80-4dca-af4f-ac057dbad164",
   "metadata": {},
   "outputs": [],
   "source": [
    "#X_train.shape"
   ]
  },
  {
   "cell_type": "code",
   "execution_count": null,
   "id": "4cd0a55a-df1e-4727-81d0-30f40902863f",
   "metadata": {},
   "outputs": [],
   "source": []
  },
  {
   "cell_type": "code",
   "execution_count": null,
   "id": "83581d2f-7870-4cc0-86cd-58a863371582",
   "metadata": {},
   "outputs": [],
   "source": []
  },
  {
   "cell_type": "code",
   "execution_count": null,
   "id": "6133d9d9-f544-46d3-be3f-f2a7911a5e5d",
   "metadata": {},
   "outputs": [],
   "source": [
    "#plt.figure(figsize=(18,9))\n",
    "#for i in range(1,11):\n",
    "#    plt.subplot(4,5,i)\n",
    "#    plt.imshow(X_train[i])\n",
    "#    plt.title(y_train[i])\n",
    "#    plt.tight_layout()\n",
    "#plt.show()"
   ]
  },
  {
   "cell_type": "code",
   "execution_count": null,
   "id": "5fdbbd2f-8229-4adf-b2c8-3bafd5b821ea",
   "metadata": {},
   "outputs": [],
   "source": [
    "latent_dim = 128\n",
    "BATCH_SIZE = 32\n",
    "EPOCHS = 100\n",
    "BUFFER_SIZE = 10000  "
   ]
  },
  {
   "cell_type": "code",
   "execution_count": null,
   "id": "4dcd9624-ccd9-4a25-b335-d104d58add45",
   "metadata": {},
   "outputs": [],
   "source": [
    "def preprocess_data(data):\n",
    "    data = (data.astype(\"float32\") / 127.5) - 1  # Normalisation [-1,1]\n",
    "    return tf.data.Dataset.from_tensor_slices(data).shuffle(1000).batch(BATCH_SIZE)"
   ]
  },
  {
   "cell_type": "code",
   "execution_count": null,
   "id": "163b0580-0ee7-4f50-ab17-c819e6d87868",
   "metadata": {},
   "outputs": [],
   "source": [
    "#strategy = tf.distribute.MirroredStrategy()\n",
    "#print('DEVICES AVAILABLE: {}'.format(strategy.num_replicas_in_sync))"
   ]
  },
  {
   "cell_type": "code",
   "execution_count": null,
   "id": "8a9ad1f2-4e06-4047-9137-004bb4c5ee07",
   "metadata": {},
   "outputs": [],
   "source": [
    "#discriminator = outilsg.discriminator()\n",
    "#generator = outilsg.generator() \n",
    "#generator.summary()\n",
    "#discriminator.summary()"
   ]
  },
  {
   "cell_type": "code",
   "execution_count": null,
   "id": "d65ebb94-e979-42cc-a867-ad548f22468e",
   "metadata": {},
   "outputs": [],
   "source": [
    "#random_noise = tf.random.normal([1, 128])  # Un vecteur latent aléatoire\n",
    "#fake_image = generator(random_noise)\n",
    "#print(f\"Shape de l'image générée : {fake_image.shape}\")\n",
    "#plt.imshow((fake_image[0]+1)/2)"
   ]
  },
  {
   "cell_type": "code",
   "execution_count": null,
   "id": "d1c3b9fc-fea1-4d59-8191-81c68b116e9b",
   "metadata": {},
   "outputs": [],
   "source": [
    "#dataset = preprocess_data(X_train)"
   ]
  },
  {
   "cell_type": "code",
   "execution_count": null,
   "id": "3ed61710-d322-4936-93ca-9ea76310a5ee",
   "metadata": {},
   "outputs": [],
   "source": [
    "#for batch in dataset.take(1):\n",
    "#    print(\"Shape du batch :\", batch.shape)  # Debugging\n"
   ]
  },
  {
   "cell_type": "code",
   "execution_count": null,
   "id": "b9464069-8127-4482-b796-9a0b94fc6e5b",
   "metadata": {
    "scrolled": true
   },
   "outputs": [],
   "source": [
    "# ========================== Entraînement avec distribution multi-GPU ==========================\n",
    "\n",
    "#with strategy.scope():\n",
    "    # Déclaration du modèle GAN dans le scope pour multi-GPU\n",
    "#gan = outilsg.GAN(discriminator=discriminator, generator=generator, latent_dim=latent_dim)\n",
    "#gan.compile(\n",
    "    \n",
    "#    disc_opt=tf.keras.optimizers.Adam(learning_rate=0.0001, beta_1=0.5), \n",
    "#    gen_opt=tf.keras.optimizers.Adam(learning_rate=0.0002, beta_1=0.5),\n",
    "#   loss_function=tf.keras.losses.BinaryCrossentropy(from_logits=False, reduction=tf.keras.losses.Reduction.SUM_OVER_BATCH_SIZE))\n",
    "\n",
    "\n",
    "# ========================== Entraînement du modèle ==========================\n",
    "#print(\"Début de l'entraînement du GAN...\")\n",
    "#history = gan.fit(\n",
    " #   dataset.map(lambda x: (x, tf.ones((tf.shape(x)[0], 1)))), \n",
    "#    epochs=EPOCHS,\n",
    " #   steps_per_epoch=len(dataset),\n",
    "#    callbacks=[outilsg.GAN_Callback(num_images=4, latent_dim=latent_dim)]\n",
    "#)\n",
    "\n",
    "# ========================== Sauvegarde finale du modèle ==========================\n",
    "#gan.generator.save(f'generator_final.keras')\n",
    "#gan.discriminator.save(f'discriminator_final.keras')\n",
    "#gan.save(f'gan_model_final.keras')  # Sauvegarde complète du modèle GAN\n",
    "#print(\"Entraînement terminé. Modèle sauvegardé !\") "
   ]
  },
  {
   "cell_type": "code",
   "execution_count": 21,
   "id": "a5d25b3b-3d46-4815-83ba-1d4b3c3b22d5",
   "metadata": {},
   "outputs": [],
   "source": [
    "from tensorflow.keras.preprocessing import image\n",
    "import matplotlib.pyplot as plt"
   ]
  },
  {
   "cell_type": "code",
   "execution_count": null,
   "id": "3a4446fc-3f73-4567-b87e-8bb909258b5b",
   "metadata": {},
   "outputs": [],
   "source": [
    "def plot_result(historique):\n",
    "    #acc = historique.history['accuracy']\n",
    "    gen_loss = historique.history['gen_loss']\n",
    "    dis_loss = historique.history['disc_loss']\n",
    "    #val_loss = historique.history['val_loss']\n",
    "\n",
    "    epochs = range(len( gen_loss))\n",
    "    fig,ax =plt.subplots(nrows=1,ncols=2,figsize=(16,6))\n",
    "    ax[0].plot(epochs, gen_loss, 'b', label='Gen loss')\n",
    "    ax[0].plot(epochs, dis_loss, 'r', label='Disc loss')\n",
    "    ax[0].set_title(\"Accuracy: Train and Test\")\n",
    "    ax[0].legend(loc=0)\n",
    "   \n",
    "    ax[1].plot(epochs, gen_loss, 'r', label='Test loss')\n",
    "    ax[1].legend(loc=0)\n",
    "    ax[1].set_title(\"Loss : Train and Test\")\n",
    "    #plt.savefig(\"appe.png\")\n",
    "    plt.show()"
   ]
  },
  {
   "cell_type": "code",
   "execution_count": null,
   "id": "34486439-3246-4b56-b210-2927033ff5d5",
   "metadata": {},
   "outputs": [],
   "source": [
    "#plot_result(history)"
   ]
  },
  {
   "cell_type": "code",
   "execution_count": 19,
   "id": "22d34442-fbb0-4775-a49f-59fcf0a1f286",
   "metadata": {},
   "outputs": [],
   "source": [
    "from tensorflow.keras.models import load_model\n",
    "import numpy as np"
   ]
  },
  {
   "cell_type": "code",
   "execution_count": 9,
   "id": "b1a2c9a7-c1d4-4502-800b-02f15a196d1f",
   "metadata": {},
   "outputs": [],
   "source": [
    "path = \"classification3.keras\""
   ]
  },
  {
   "cell_type": "code",
   "execution_count": 13,
   "id": "5d629bc1-d692-4d7b-80b2-61f7d29e044d",
   "metadata": {},
   "outputs": [],
   "source": [
    "model = load_model('gen_epoch_0060.keras')\n",
    "disc = load_model('disc_epoch_0060.keras')\n",
    "classificateur,list_name  = outils.load_modele(path_model=path)"
   ]
  },
  {
   "cell_type": "code",
   "execution_count": null,
   "id": "ff105086-da1d-4833-90fa-8fc890feb32a",
   "metadata": {},
   "outputs": [],
   "source": [
    "random_noise = tf.random.normal([1, 100])  # Un vecteur latent aléatoire\n",
    "fake_image = model(random_noise)\n",
    "print(f\" Shape de l'image générée : {fake_image.shape}\")\n",
    "plt.imshow((fake_image[0] + 1)/2)"
   ]
  },
  {
   "cell_type": "code",
   "execution_count": null,
   "id": "d82ae403-2593-41e6-b3c1-0abf5fd0d6c9",
   "metadata": {},
   "outputs": [],
   "source": [
    "real_image = np.expand_dims( X_train[45],axis=0)"
   ]
  },
  {
   "cell_type": "code",
   "execution_count": null,
   "id": "6fc75503-3954-4bf6-bb4e-e8a584c95c04",
   "metadata": {},
   "outputs": [],
   "source": [
    "real_image.shape"
   ]
  },
  {
   "cell_type": "code",
   "execution_count": 50,
   "id": "3546705f-a3df-4107-beae-393e098a64c1",
   "metadata": {},
   "outputs": [],
   "source": [
    "image_path = r\"C:/Users/Moi/Pictures/logo1.png\""
   ]
  },
  {
   "cell_type": "code",
   "execution_count": null,
   "id": "1b3c1ac4-5f69-48b0-87d4-152adcf5fe5d",
   "metadata": {},
   "outputs": [],
   "source": [
    "real, img = outils.prepare_image(img_path=image_path,target_size=225)"
   ]
  },
  {
   "cell_type": "code",
   "execution_count": 15,
   "id": "a36e562e-5bc1-46d5-a30b-fc56a5654b9f",
   "metadata": {},
   "outputs": [],
   "source": [
    "def prepare_image(img_path, target_size):\n",
    "    img = image.load_img(img_path, target_size=(target_size,target_size))\n",
    "    img_array = image.img_to_array(img)\n",
    "    img_array = np.expand_dims(img_array, axis=0)  \n",
    "    img_array /= 255.0  \n",
    "    return img_array, img"
   ]
  },
  {
   "cell_type": "code",
   "execution_count": 62,
   "id": "a784375c-51f2-411b-afa8-81a867691bd9",
   "metadata": {},
   "outputs": [],
   "source": [
    "def predict(img_path, discriminateur,classificateur, target_size=225, list_name = None):\n",
    "    img_array, img= prepare_image(img_path , target_size)\n",
    "    est_connue = discriminateur.predict(img_array)\n",
    "    if est_connue[0][0] >=0.01:\n",
    "        predict_proba = classificateur.predict(img_array)\n",
    "        y_pred = np.argmax(predict_proba, axis=1)\n",
    "        result = np.max(predict_proba[0]*100)\n",
    "        plt.imshow(img)\n",
    "        plt.title(f\"{list_name[y_pred[0]]} avec une précision de {result:.2f}%\")\n",
    "    else:\n",
    "        result = est_connue[0][0]*100\n",
    "        plt.imshow(img)\n",
    "        plt.title(f\"Classe inconnue {result:.2f}%\")\n",
    "    plt.savefig('status')"
   ]
  },
  {
   "cell_type": "code",
   "execution_count": 63,
   "id": "7d26c270-e514-4bde-a0e3-c93c10ef7ee7",
   "metadata": {},
   "outputs": [
    {
     "name": "stdout",
     "output_type": "stream",
     "text": [
      "\u001b[1m1/1\u001b[0m \u001b[32m━━━━━━━━━━━━━━━━━━━━\u001b[0m\u001b[37m\u001b[0m \u001b[1m0s\u001b[0m 251ms/step\n",
      "\u001b[1m1/1\u001b[0m \u001b[32m━━━━━━━━━━━━━━━━━━━━\u001b[0m\u001b[37m\u001b[0m \u001b[1m0s\u001b[0m 226ms/step\n"
     ]
    },
    {
     "data": {
      "image/png": "[encoded data removed]",
      "text/plain": [
       "<Figure size 640x480 with 1 Axes>"
      ]
     },
     "metadata": {},
     "output_type": "display_data"
    }
   ],
   "source": [
    "predict(img_path = image_path, classificateur = classificateur, discriminateur = disc, list_name = list_name)"
   ]
  },
  {
   "cell_type": "code",
   "execution_count": null,
   "id": "3bd5b1c0-b590-4203-b7f1-704695474deb",
   "metadata": {},
   "outputs": [],
   "source": [
    "#plt.imshow(img)"
   ]
  },
  {
   "cell_type": "code",
   "execution_count": null,
   "id": "060cd911-58ef-4350-87be-158558382b87",
   "metadata": {},
   "outputs": [],
   "source": [
    "#plt.imshow(X_train[7]/255)"
   ]
  },
  {
   "cell_type": "code",
   "execution_count": null,
   "id": "af704a1d-ce55-43d8-805d-167be3430c27",
   "metadata": {},
   "outputs": [],
   "source": [
    "import tensorflow as tf"
   ]
  },
  {
   "cell_type": "code",
   "execution_count": null,
   "id": "3f34b28b-b760-4187-a429-0aa924279ac2",
   "metadata": {},
   "outputs": [],
   "source": [
    "generator1 = generator()\n",
    "random_noise = tf.random.normal([1, 100])  # Un vecteur latent aléatoire\n",
    "fake_image = generator1(random_noise)\n",
    "print(f\"Shape de l'image générée : {fake_image.shape}\")\n",
    "plt.imshow((fake_image[0]+1)/2)"
   ]
  },
  {
   "cell_type": "code",
   "execution_count": null,
   "id": "111baeec-5932-4789-af7b-e2cdb180e23b",
   "metadata": {},
   "outputs": [],
   "source": []
  }
 ],
 "metadata": {
  "kernelspec": {
   "display_name": "Python 3 (ipykernel)",
   "language": "python",
   "name": "python3"
  },
  "language_info": {
   "codemirror_mode": {
    "name": "ipython",
    "version": 3
   },
   "file_extension": ".py",
   "mimetype": "text/x-python",
   "name": "python",
   "nbconvert_exporter": "python",
   "pygments_lexer": "ipython3",
   "version": "3.11.7"
  }
 },
 "nbformat": 4,
 "nbformat_minor": 5
}
